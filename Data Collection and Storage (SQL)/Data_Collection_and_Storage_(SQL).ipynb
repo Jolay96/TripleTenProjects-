{
  "cells": [
    {
      "cell_type": "markdown",
      "metadata": {
        "id": "5MN3DTwUSBOb"
      },
      "source": [
        "### SPRINT 6"
      ]
    },
    {
      "cell_type": "markdown",
      "metadata": {
        "id": "ZocfG5qzSBOc"
      },
      "source": [
        "1.import the files\n",
        "2.study the data they contain\n",
        "3.make sure the data types are correct\n",
        "4.identify the top 10 neighborhoods in terms of drop-offs\n",
        "5.make graphs: taxi companies and number of rides, top 10 neighborhoods by number of dropoffs\n",
        "6.draw conclusions based on each graph and explain the results"
      ]
    },
    {
      "cell_type": "markdown",
      "metadata": {
        "id": "oYhOGQkwSBOc"
      },
      "source": [
        "<div class=\"alert alert-success\"; style=\"border-left: 7px solid green\">\n",
        "<b>✅ Reviewer's comment, v. 1</b>\n",
        "    \n",
        "Introduction was specified, good job\n",
        "</div>"
      ]
    },
    {
      "cell_type": "code",
      "execution_count": null,
      "metadata": {
        "trusted": true,
        "id": "rQfM_h7eSBOc"
      },
      "outputs": [],
      "source": [
        "#Loading all the libaries\n",
        "import pandas as pd\n",
        "import numpy as np\n",
        "import matplotlib.pyplot as plt\n",
        "import seaborn as sns\n",
        "from scipy import stats\n",
        "from scipy.stats import ttest_ind\n"
      ]
    },
    {
      "cell_type": "markdown",
      "metadata": {
        "id": "LDfivSLvSBOc"
      },
      "source": [
        "### Load Data"
      ]
    },
    {
      "cell_type": "code",
      "execution_count": null,
      "metadata": {
        "trusted": true,
        "id": "Y84S8JvsSBOd",
        "outputId": "b2b78e97-58f8-4363-e864-1fd407e0ac4c"
      },
      "outputs": [
        {
          "ename": "FileNotFoundError",
          "evalue": "[Errno 2] No such file or directory: '/datasets/project_sql_result_07.csv'",
          "output_type": "error",
          "traceback": [
            "\u001b[1;31m---------------------------------------------------------------------------\u001b[0m",
            "\u001b[1;31mFileNotFoundError\u001b[0m                         Traceback (most recent call last)",
            "Cell \u001b[1;32mIn[2], line 2\u001b[0m\n\u001b[0;32m      1\u001b[0m \u001b[38;5;66;03m#load the data flies into Dataframes\u001b[39;00m\n\u001b[1;32m----> 2\u001b[0m df_Hare \u001b[38;5;241m=\u001b[39m pd\u001b[38;5;241m.\u001b[39mread_csv(\u001b[38;5;124m'\u001b[39m\u001b[38;5;124m/datasets/project_sql_result_07.csv\u001b[39m\u001b[38;5;124m'\u001b[39m)\n",
            "File \u001b[1;32mc:\\Users\\Jolay\\anaconda3\\Lib\\site-packages\\pandas\\io\\parsers\\readers.py:1026\u001b[0m, in \u001b[0;36mread_csv\u001b[1;34m(filepath_or_buffer, sep, delimiter, header, names, index_col, usecols, dtype, engine, converters, true_values, false_values, skipinitialspace, skiprows, skipfooter, nrows, na_values, keep_default_na, na_filter, verbose, skip_blank_lines, parse_dates, infer_datetime_format, keep_date_col, date_parser, date_format, dayfirst, cache_dates, iterator, chunksize, compression, thousands, decimal, lineterminator, quotechar, quoting, doublequote, escapechar, comment, encoding, encoding_errors, dialect, on_bad_lines, delim_whitespace, low_memory, memory_map, float_precision, storage_options, dtype_backend)\u001b[0m\n\u001b[0;32m   1013\u001b[0m kwds_defaults \u001b[38;5;241m=\u001b[39m _refine_defaults_read(\n\u001b[0;32m   1014\u001b[0m     dialect,\n\u001b[0;32m   1015\u001b[0m     delimiter,\n\u001b[1;32m   (...)\u001b[0m\n\u001b[0;32m   1022\u001b[0m     dtype_backend\u001b[38;5;241m=\u001b[39mdtype_backend,\n\u001b[0;32m   1023\u001b[0m )\n\u001b[0;32m   1024\u001b[0m kwds\u001b[38;5;241m.\u001b[39mupdate(kwds_defaults)\n\u001b[1;32m-> 1026\u001b[0m \u001b[38;5;28;01mreturn\u001b[39;00m _read(filepath_or_buffer, kwds)\n",
            "File \u001b[1;32mc:\\Users\\Jolay\\anaconda3\\Lib\\site-packages\\pandas\\io\\parsers\\readers.py:620\u001b[0m, in \u001b[0;36m_read\u001b[1;34m(filepath_or_buffer, kwds)\u001b[0m\n\u001b[0;32m    617\u001b[0m _validate_names(kwds\u001b[38;5;241m.\u001b[39mget(\u001b[38;5;124m\"\u001b[39m\u001b[38;5;124mnames\u001b[39m\u001b[38;5;124m\"\u001b[39m, \u001b[38;5;28;01mNone\u001b[39;00m))\n\u001b[0;32m    619\u001b[0m \u001b[38;5;66;03m# Create the parser.\u001b[39;00m\n\u001b[1;32m--> 620\u001b[0m parser \u001b[38;5;241m=\u001b[39m TextFileReader(filepath_or_buffer, \u001b[38;5;241m*\u001b[39m\u001b[38;5;241m*\u001b[39mkwds)\n\u001b[0;32m    622\u001b[0m \u001b[38;5;28;01mif\u001b[39;00m chunksize \u001b[38;5;129;01mor\u001b[39;00m iterator:\n\u001b[0;32m    623\u001b[0m     \u001b[38;5;28;01mreturn\u001b[39;00m parser\n",
            "File \u001b[1;32mc:\\Users\\Jolay\\anaconda3\\Lib\\site-packages\\pandas\\io\\parsers\\readers.py:1620\u001b[0m, in \u001b[0;36mTextFileReader.__init__\u001b[1;34m(self, f, engine, **kwds)\u001b[0m\n\u001b[0;32m   1617\u001b[0m     \u001b[38;5;28mself\u001b[39m\u001b[38;5;241m.\u001b[39moptions[\u001b[38;5;124m\"\u001b[39m\u001b[38;5;124mhas_index_names\u001b[39m\u001b[38;5;124m\"\u001b[39m] \u001b[38;5;241m=\u001b[39m kwds[\u001b[38;5;124m\"\u001b[39m\u001b[38;5;124mhas_index_names\u001b[39m\u001b[38;5;124m\"\u001b[39m]\n\u001b[0;32m   1619\u001b[0m \u001b[38;5;28mself\u001b[39m\u001b[38;5;241m.\u001b[39mhandles: IOHandles \u001b[38;5;241m|\u001b[39m \u001b[38;5;28;01mNone\u001b[39;00m \u001b[38;5;241m=\u001b[39m \u001b[38;5;28;01mNone\u001b[39;00m\n\u001b[1;32m-> 1620\u001b[0m \u001b[38;5;28mself\u001b[39m\u001b[38;5;241m.\u001b[39m_engine \u001b[38;5;241m=\u001b[39m \u001b[38;5;28mself\u001b[39m\u001b[38;5;241m.\u001b[39m_make_engine(f, \u001b[38;5;28mself\u001b[39m\u001b[38;5;241m.\u001b[39mengine)\n",
            "File \u001b[1;32mc:\\Users\\Jolay\\anaconda3\\Lib\\site-packages\\pandas\\io\\parsers\\readers.py:1880\u001b[0m, in \u001b[0;36mTextFileReader._make_engine\u001b[1;34m(self, f, engine)\u001b[0m\n\u001b[0;32m   1878\u001b[0m     \u001b[38;5;28;01mif\u001b[39;00m \u001b[38;5;124m\"\u001b[39m\u001b[38;5;124mb\u001b[39m\u001b[38;5;124m\"\u001b[39m \u001b[38;5;129;01mnot\u001b[39;00m \u001b[38;5;129;01min\u001b[39;00m mode:\n\u001b[0;32m   1879\u001b[0m         mode \u001b[38;5;241m+\u001b[39m\u001b[38;5;241m=\u001b[39m \u001b[38;5;124m\"\u001b[39m\u001b[38;5;124mb\u001b[39m\u001b[38;5;124m\"\u001b[39m\n\u001b[1;32m-> 1880\u001b[0m \u001b[38;5;28mself\u001b[39m\u001b[38;5;241m.\u001b[39mhandles \u001b[38;5;241m=\u001b[39m get_handle(\n\u001b[0;32m   1881\u001b[0m     f,\n\u001b[0;32m   1882\u001b[0m     mode,\n\u001b[0;32m   1883\u001b[0m     encoding\u001b[38;5;241m=\u001b[39m\u001b[38;5;28mself\u001b[39m\u001b[38;5;241m.\u001b[39moptions\u001b[38;5;241m.\u001b[39mget(\u001b[38;5;124m\"\u001b[39m\u001b[38;5;124mencoding\u001b[39m\u001b[38;5;124m\"\u001b[39m, \u001b[38;5;28;01mNone\u001b[39;00m),\n\u001b[0;32m   1884\u001b[0m     compression\u001b[38;5;241m=\u001b[39m\u001b[38;5;28mself\u001b[39m\u001b[38;5;241m.\u001b[39moptions\u001b[38;5;241m.\u001b[39mget(\u001b[38;5;124m\"\u001b[39m\u001b[38;5;124mcompression\u001b[39m\u001b[38;5;124m\"\u001b[39m, \u001b[38;5;28;01mNone\u001b[39;00m),\n\u001b[0;32m   1885\u001b[0m     memory_map\u001b[38;5;241m=\u001b[39m\u001b[38;5;28mself\u001b[39m\u001b[38;5;241m.\u001b[39moptions\u001b[38;5;241m.\u001b[39mget(\u001b[38;5;124m\"\u001b[39m\u001b[38;5;124mmemory_map\u001b[39m\u001b[38;5;124m\"\u001b[39m, \u001b[38;5;28;01mFalse\u001b[39;00m),\n\u001b[0;32m   1886\u001b[0m     is_text\u001b[38;5;241m=\u001b[39mis_text,\n\u001b[0;32m   1887\u001b[0m     errors\u001b[38;5;241m=\u001b[39m\u001b[38;5;28mself\u001b[39m\u001b[38;5;241m.\u001b[39moptions\u001b[38;5;241m.\u001b[39mget(\u001b[38;5;124m\"\u001b[39m\u001b[38;5;124mencoding_errors\u001b[39m\u001b[38;5;124m\"\u001b[39m, \u001b[38;5;124m\"\u001b[39m\u001b[38;5;124mstrict\u001b[39m\u001b[38;5;124m\"\u001b[39m),\n\u001b[0;32m   1888\u001b[0m     storage_options\u001b[38;5;241m=\u001b[39m\u001b[38;5;28mself\u001b[39m\u001b[38;5;241m.\u001b[39moptions\u001b[38;5;241m.\u001b[39mget(\u001b[38;5;124m\"\u001b[39m\u001b[38;5;124mstorage_options\u001b[39m\u001b[38;5;124m\"\u001b[39m, \u001b[38;5;28;01mNone\u001b[39;00m),\n\u001b[0;32m   1889\u001b[0m )\n\u001b[0;32m   1890\u001b[0m \u001b[38;5;28;01massert\u001b[39;00m \u001b[38;5;28mself\u001b[39m\u001b[38;5;241m.\u001b[39mhandles \u001b[38;5;129;01mis\u001b[39;00m \u001b[38;5;129;01mnot\u001b[39;00m \u001b[38;5;28;01mNone\u001b[39;00m\n\u001b[0;32m   1891\u001b[0m f \u001b[38;5;241m=\u001b[39m \u001b[38;5;28mself\u001b[39m\u001b[38;5;241m.\u001b[39mhandles\u001b[38;5;241m.\u001b[39mhandle\n",
            "File \u001b[1;32mc:\\Users\\Jolay\\anaconda3\\Lib\\site-packages\\pandas\\io\\common.py:873\u001b[0m, in \u001b[0;36mget_handle\u001b[1;34m(path_or_buf, mode, encoding, compression, memory_map, is_text, errors, storage_options)\u001b[0m\n\u001b[0;32m    868\u001b[0m \u001b[38;5;28;01melif\u001b[39;00m \u001b[38;5;28misinstance\u001b[39m(handle, \u001b[38;5;28mstr\u001b[39m):\n\u001b[0;32m    869\u001b[0m     \u001b[38;5;66;03m# Check whether the filename is to be opened in binary mode.\u001b[39;00m\n\u001b[0;32m    870\u001b[0m     \u001b[38;5;66;03m# Binary mode does not support 'encoding' and 'newline'.\u001b[39;00m\n\u001b[0;32m    871\u001b[0m     \u001b[38;5;28;01mif\u001b[39;00m ioargs\u001b[38;5;241m.\u001b[39mencoding \u001b[38;5;129;01mand\u001b[39;00m \u001b[38;5;124m\"\u001b[39m\u001b[38;5;124mb\u001b[39m\u001b[38;5;124m\"\u001b[39m \u001b[38;5;129;01mnot\u001b[39;00m \u001b[38;5;129;01min\u001b[39;00m ioargs\u001b[38;5;241m.\u001b[39mmode:\n\u001b[0;32m    872\u001b[0m         \u001b[38;5;66;03m# Encoding\u001b[39;00m\n\u001b[1;32m--> 873\u001b[0m         handle \u001b[38;5;241m=\u001b[39m \u001b[38;5;28mopen\u001b[39m(\n\u001b[0;32m    874\u001b[0m             handle,\n\u001b[0;32m    875\u001b[0m             ioargs\u001b[38;5;241m.\u001b[39mmode,\n\u001b[0;32m    876\u001b[0m             encoding\u001b[38;5;241m=\u001b[39mioargs\u001b[38;5;241m.\u001b[39mencoding,\n\u001b[0;32m    877\u001b[0m             errors\u001b[38;5;241m=\u001b[39merrors,\n\u001b[0;32m    878\u001b[0m             newline\u001b[38;5;241m=\u001b[39m\u001b[38;5;124m\"\u001b[39m\u001b[38;5;124m\"\u001b[39m,\n\u001b[0;32m    879\u001b[0m         )\n\u001b[0;32m    880\u001b[0m     \u001b[38;5;28;01melse\u001b[39;00m:\n\u001b[0;32m    881\u001b[0m         \u001b[38;5;66;03m# Binary mode\u001b[39;00m\n\u001b[0;32m    882\u001b[0m         handle \u001b[38;5;241m=\u001b[39m \u001b[38;5;28mopen\u001b[39m(handle, ioargs\u001b[38;5;241m.\u001b[39mmode)\n",
            "\u001b[1;31mFileNotFoundError\u001b[0m: [Errno 2] No such file or directory: '/datasets/project_sql_result_07.csv'"
          ]
        }
      ],
      "source": [
        "#load the data flies into Dataframes\n",
        "df_Hare = pd.read_csv('/datasets/project_sql_result_07.csv')"
      ]
    },
    {
      "cell_type": "code",
      "execution_count": null,
      "metadata": {
        "trusted": true,
        "id": "HF-CvMl1SBOd"
      },
      "outputs": [],
      "source": [
        "df_company_name = pd.read_csv('/datasets/project_sql_result_01.csv')"
      ]
    },
    {
      "cell_type": "code",
      "execution_count": null,
      "metadata": {
        "trusted": true,
        "id": "J7vzbIhpSBOd",
        "outputId": "4c38c1da-2071-465b-faab-75936f3f47c8"
      },
      "outputs": [
        {
          "data": {
            "text/html": [
              "<div>\n",
              "<style scoped>\n",
              "    .dataframe tbody tr th:only-of-type {\n",
              "        vertical-align: middle;\n",
              "    }\n",
              "\n",
              "    .dataframe tbody tr th {\n",
              "        vertical-align: top;\n",
              "    }\n",
              "\n",
              "    .dataframe thead th {\n",
              "        text-align: right;\n",
              "    }\n",
              "</style>\n",
              "<table border=\"1\" class=\"dataframe\">\n",
              "  <thead>\n",
              "    <tr style=\"text-align: right;\">\n",
              "      <th></th>\n",
              "      <th>company_name</th>\n",
              "      <th>trips_amount</th>\n",
              "    </tr>\n",
              "  </thead>\n",
              "  <tbody>\n",
              "    <tr>\n",
              "      <th>0</th>\n",
              "      <td>Flash Cab</td>\n",
              "      <td>19558</td>\n",
              "    </tr>\n",
              "    <tr>\n",
              "      <th>1</th>\n",
              "      <td>Taxi Affiliation Services</td>\n",
              "      <td>11422</td>\n",
              "    </tr>\n",
              "    <tr>\n",
              "      <th>2</th>\n",
              "      <td>Medallion Leasing</td>\n",
              "      <td>10367</td>\n",
              "    </tr>\n",
              "    <tr>\n",
              "      <th>3</th>\n",
              "      <td>Yellow Cab</td>\n",
              "      <td>9888</td>\n",
              "    </tr>\n",
              "    <tr>\n",
              "      <th>4</th>\n",
              "      <td>Taxi Affiliation Service Yellow</td>\n",
              "      <td>9299</td>\n",
              "    </tr>\n",
              "  </tbody>\n",
              "</table>\n",
              "</div>"
            ],
            "text/plain": [
              "                      company_name  trips_amount\n",
              "0                        Flash Cab         19558\n",
              "1        Taxi Affiliation Services         11422\n",
              "2                Medallion Leasing         10367\n",
              "3                       Yellow Cab          9888\n",
              "4  Taxi Affiliation Service Yellow          9299"
            ]
          },
          "execution_count": 4,
          "metadata": {},
          "output_type": "execute_result"
        }
      ],
      "source": [
        "df_company_name.head()"
      ]
    },
    {
      "cell_type": "code",
      "execution_count": null,
      "metadata": {
        "trusted": true,
        "id": "J0TIvv2ISBOe"
      },
      "outputs": [],
      "source": [
        "df_dropoff_location_name = pd.read_csv('/datasets/project_sql_result_04.csv')"
      ]
    },
    {
      "cell_type": "code",
      "execution_count": null,
      "metadata": {
        "trusted": true,
        "id": "ygR4Nc6kSBOe",
        "outputId": "1ec0bfd3-ea4b-442a-96ac-d73232a68a17"
      },
      "outputs": [
        {
          "data": {
            "text/html": [
              "<div>\n",
              "<style scoped>\n",
              "    .dataframe tbody tr th:only-of-type {\n",
              "        vertical-align: middle;\n",
              "    }\n",
              "\n",
              "    .dataframe tbody tr th {\n",
              "        vertical-align: top;\n",
              "    }\n",
              "\n",
              "    .dataframe thead th {\n",
              "        text-align: right;\n",
              "    }\n",
              "</style>\n",
              "<table border=\"1\" class=\"dataframe\">\n",
              "  <thead>\n",
              "    <tr style=\"text-align: right;\">\n",
              "      <th></th>\n",
              "      <th>dropoff_location_name</th>\n",
              "      <th>average_trips</th>\n",
              "    </tr>\n",
              "  </thead>\n",
              "  <tbody>\n",
              "    <tr>\n",
              "      <th>0</th>\n",
              "      <td>Loop</td>\n",
              "      <td>10727.466667</td>\n",
              "    </tr>\n",
              "    <tr>\n",
              "      <th>1</th>\n",
              "      <td>River North</td>\n",
              "      <td>9523.666667</td>\n",
              "    </tr>\n",
              "    <tr>\n",
              "      <th>2</th>\n",
              "      <td>Streeterville</td>\n",
              "      <td>6664.666667</td>\n",
              "    </tr>\n",
              "    <tr>\n",
              "      <th>3</th>\n",
              "      <td>West Loop</td>\n",
              "      <td>5163.666667</td>\n",
              "    </tr>\n",
              "    <tr>\n",
              "      <th>4</th>\n",
              "      <td>O'Hare</td>\n",
              "      <td>2546.900000</td>\n",
              "    </tr>\n",
              "  </tbody>\n",
              "</table>\n",
              "</div>"
            ],
            "text/plain": [
              "  dropoff_location_name  average_trips\n",
              "0                  Loop   10727.466667\n",
              "1           River North    9523.666667\n",
              "2         Streeterville    6664.666667\n",
              "3             West Loop    5163.666667\n",
              "4                O'Hare    2546.900000"
            ]
          },
          "execution_count": 6,
          "metadata": {},
          "output_type": "execute_result"
        }
      ],
      "source": [
        "df_dropoff_location_name.head()"
      ]
    },
    {
      "cell_type": "markdown",
      "metadata": {
        "id": "IeHLa6e0SBOe"
      },
      "source": [
        "### info"
      ]
    },
    {
      "cell_type": "code",
      "execution_count": null,
      "metadata": {
        "trusted": true,
        "id": "wUjNQ1PvSBOe",
        "outputId": "7338ac44-43ec-4de6-f176-d0d3d4a55cbf"
      },
      "outputs": [
        {
          "name": "stdout",
          "output_type": "stream",
          "text": [
            "<class 'pandas.core.frame.DataFrame'>\n",
            "RangeIndex: 64 entries, 0 to 63\n",
            "Data columns (total 2 columns):\n",
            " #   Column        Non-Null Count  Dtype \n",
            "---  ------        --------------  ----- \n",
            " 0   company_name  64 non-null     object\n",
            " 1   trips_amount  64 non-null     int64 \n",
            "dtypes: int64(1), object(1)\n",
            "memory usage: 1.1+ KB\n"
          ]
        }
      ],
      "source": [
        "df_company_name.info()"
      ]
    },
    {
      "cell_type": "code",
      "execution_count": null,
      "metadata": {
        "trusted": true,
        "id": "gDf8iYYwSBOe",
        "outputId": "066675bc-a771-48ef-fc14-453fef72e403"
      },
      "outputs": [
        {
          "name": "stdout",
          "output_type": "stream",
          "text": [
            "<class 'pandas.core.frame.DataFrame'>\n",
            "RangeIndex: 94 entries, 0 to 93\n",
            "Data columns (total 2 columns):\n",
            " #   Column                 Non-Null Count  Dtype  \n",
            "---  ------                 --------------  -----  \n",
            " 0   dropoff_location_name  94 non-null     object \n",
            " 1   average_trips          94 non-null     float64\n",
            "dtypes: float64(1), object(1)\n",
            "memory usage: 1.6+ KB\n"
          ]
        }
      ],
      "source": [
        "df_dropoff_location_name.info()"
      ]
    },
    {
      "cell_type": "markdown",
      "metadata": {
        "id": "DUREnhQqSBOe"
      },
      "source": [
        "<div class=\"alert alert-success\"; style=\"border-left: 7px solid green\">\n",
        "<b>✅ Reviewer's comment, v. 1</b>\n",
        "    \n",
        "Column names and missing values were checked, good job\n",
        "</div>"
      ]
    },
    {
      "cell_type": "markdown",
      "metadata": {
        "id": "gPHRA_FUSBOe"
      },
      "source": [
        "### Fix data"
      ]
    },
    {
      "cell_type": "code",
      "execution_count": null,
      "metadata": {
        "trusted": true,
        "id": "8qOQIzgrSBOe"
      },
      "outputs": [],
      "source": [
        "# Strip any leading or trailing spaces from the column names\n",
        "df_company_name.columns = df_company_name.columns.str.strip()\n",
        "\n",
        "# Strip leading and trailing spaces from the company names\n",
        "df_company_name['company_name'] = df_company_name['company_name'].str.strip()\n",
        "\n",
        "# Remove any duplicate rows\n",
        "df_company_name = df_company_name.drop_duplicates()\n",
        "\n",
        "# Check for full duplicates\n",
        "full_duplicates_count_company = df_company_name.duplicated().sum()\n",
        "\n",
        "# Check for and drop rows with missing values\n",
        "df_company_name = df_company_name.dropna()\n",
        "\n",
        "# Check and convert 'trips_amount' to integers (in case there are any anomalies)\n",
        "df_company_name['trips_amount'] = pd.to_numeric(df_company_name['trips_amount'], errors='coerce')\n",
        "\n",
        "# Drop any rows where 'trips_amount' is NaN after conversion\n",
        "df_company_name = df_company_name.dropna(subset=['trips_amount'])\n",
        "\n",
        "# Convert 'trips_amount' back to integer type\n",
        "df_company_name['trips_amount'] = df_company_name['trips_amount'].astype(int)"
      ]
    },
    {
      "cell_type": "markdown",
      "metadata": {
        "id": "MjGgW0e1SBOf"
      },
      "source": [
        "<div class=\"alert alert-danger\"; style=\"border-left: 7px solid red\">\n",
        "<b>⛔️ Reviewer's comment, v. 1</b>\n",
        "    \n",
        "Please, pay attention that we also should check data for full duplicates with help of `duplicated().sum()` in the preprocessing"
      ]
    },
    {
      "cell_type": "markdown",
      "metadata": {
        "id": "drO_0ZpnSBOf"
      },
      "source": [
        "<div class=\"alert alert-success\"; style=\"border-left: 7px solid green\">\n",
        "<b>✅ Reviewer's comment, v. 2</b>\n",
        "    \n",
        "Great!"
      ]
    },
    {
      "cell_type": "code",
      "execution_count": null,
      "metadata": {
        "trusted": true,
        "id": "QjnMjCzCSBOf"
      },
      "outputs": [],
      "source": [
        "# Strip any leading or trailing spaces from the column names\n",
        "df_dropoff_location_name.columns = df_dropoff_location_name.columns.str.strip()\n",
        "\n",
        "# Strip leading and trailing spaces from the dropoff_location_name values\n",
        "df_dropoff_location_name['dropoff_location_name'] = df_dropoff_location_name['dropoff_location_name'].str.strip()\n",
        "\n",
        "# Remove any duplicate rows\n",
        "df_dropoff_location_name = df_dropoff_location_name.drop_duplicates()\n",
        "\n",
        "# Check for and drop rows with missing values\n",
        "df_dropoff_location_name = df_dropoff_location_name.dropna()\n",
        "\n",
        "# Convert 'average_trips' to numeric values and handle errors if any\n",
        "df_dropoff_location_name['average_trips'] = pd.to_numeric(df_dropoff_location_name['average_trips'], errors='coerce')\n",
        "\n",
        "# Drop any rows where 'average_trips' is NaN after conversion\n",
        "df_dropoff_location_name = df_dropoff_location_name.dropna(subset=['average_trips'])"
      ]
    },
    {
      "cell_type": "code",
      "execution_count": null,
      "metadata": {
        "trusted": true,
        "id": "S3RPopEySBOf",
        "outputId": "29afcae0-89d9-4842-9ede-e9cee8c8f9f9"
      },
      "outputs": [
        {
          "data": {
            "text/html": [
              "<div>\n",
              "<style scoped>\n",
              "    .dataframe tbody tr th:only-of-type {\n",
              "        vertical-align: middle;\n",
              "    }\n",
              "\n",
              "    .dataframe tbody tr th {\n",
              "        vertical-align: top;\n",
              "    }\n",
              "\n",
              "    .dataframe thead th {\n",
              "        text-align: right;\n",
              "    }\n",
              "</style>\n",
              "<table border=\"1\" class=\"dataframe\">\n",
              "  <thead>\n",
              "    <tr style=\"text-align: right;\">\n",
              "      <th></th>\n",
              "      <th>company_name</th>\n",
              "      <th>trips_amount</th>\n",
              "    </tr>\n",
              "  </thead>\n",
              "  <tbody>\n",
              "    <tr>\n",
              "      <th>0</th>\n",
              "      <td>Flash Cab</td>\n",
              "      <td>19558</td>\n",
              "    </tr>\n",
              "    <tr>\n",
              "      <th>1</th>\n",
              "      <td>Taxi Affiliation Services</td>\n",
              "      <td>11422</td>\n",
              "    </tr>\n",
              "    <tr>\n",
              "      <th>2</th>\n",
              "      <td>Medallion Leasing</td>\n",
              "      <td>10367</td>\n",
              "    </tr>\n",
              "    <tr>\n",
              "      <th>3</th>\n",
              "      <td>Yellow Cab</td>\n",
              "      <td>9888</td>\n",
              "    </tr>\n",
              "    <tr>\n",
              "      <th>4</th>\n",
              "      <td>Taxi Affiliation Service Yellow</td>\n",
              "      <td>9299</td>\n",
              "    </tr>\n",
              "    <tr>\n",
              "      <th>...</th>\n",
              "      <td>...</td>\n",
              "      <td>...</td>\n",
              "    </tr>\n",
              "    <tr>\n",
              "      <th>59</th>\n",
              "      <td>4053 - 40193 Adwar H. Nikola</td>\n",
              "      <td>7</td>\n",
              "    </tr>\n",
              "    <tr>\n",
              "      <th>60</th>\n",
              "      <td>2733 - 74600 Benny Jona</td>\n",
              "      <td>7</td>\n",
              "    </tr>\n",
              "    <tr>\n",
              "      <th>61</th>\n",
              "      <td>5874 - 73628 Sergey Cab Corp.</td>\n",
              "      <td>5</td>\n",
              "    </tr>\n",
              "    <tr>\n",
              "      <th>62</th>\n",
              "      <td>2241 - 44667 - Felman Corp</td>\n",
              "      <td>3</td>\n",
              "    </tr>\n",
              "    <tr>\n",
              "      <th>63</th>\n",
              "      <td>3556 - 36214 RC Andrews Cab</td>\n",
              "      <td>2</td>\n",
              "    </tr>\n",
              "  </tbody>\n",
              "</table>\n",
              "<p>64 rows × 2 columns</p>\n",
              "</div>"
            ],
            "text/plain": [
              "                       company_name  trips_amount\n",
              "0                         Flash Cab         19558\n",
              "1         Taxi Affiliation Services         11422\n",
              "2                 Medallion Leasing         10367\n",
              "3                        Yellow Cab          9888\n",
              "4   Taxi Affiliation Service Yellow          9299\n",
              "..                              ...           ...\n",
              "59     4053 - 40193 Adwar H. Nikola             7\n",
              "60          2733 - 74600 Benny Jona             7\n",
              "61    5874 - 73628 Sergey Cab Corp.             5\n",
              "62       2241 - 44667 - Felman Corp             3\n",
              "63      3556 - 36214 RC Andrews Cab             2\n",
              "\n",
              "[64 rows x 2 columns]"
            ]
          },
          "metadata": {},
          "output_type": "display_data"
        }
      ],
      "source": [
        "#display New df_company_name\n",
        "display(df_company_name)"
      ]
    },
    {
      "cell_type": "code",
      "execution_count": null,
      "metadata": {
        "trusted": true,
        "id": "tlRwfA2FSBOf",
        "outputId": "4348dc0b-ec61-4182-a11c-4d2eb921f60e"
      },
      "outputs": [
        {
          "data": {
            "text/html": [
              "<div>\n",
              "<style scoped>\n",
              "    .dataframe tbody tr th:only-of-type {\n",
              "        vertical-align: middle;\n",
              "    }\n",
              "\n",
              "    .dataframe tbody tr th {\n",
              "        vertical-align: top;\n",
              "    }\n",
              "\n",
              "    .dataframe thead th {\n",
              "        text-align: right;\n",
              "    }\n",
              "</style>\n",
              "<table border=\"1\" class=\"dataframe\">\n",
              "  <thead>\n",
              "    <tr style=\"text-align: right;\">\n",
              "      <th></th>\n",
              "      <th>dropoff_location_name</th>\n",
              "      <th>average_trips</th>\n",
              "    </tr>\n",
              "  </thead>\n",
              "  <tbody>\n",
              "    <tr>\n",
              "      <th>0</th>\n",
              "      <td>Loop</td>\n",
              "      <td>10727.466667</td>\n",
              "    </tr>\n",
              "    <tr>\n",
              "      <th>1</th>\n",
              "      <td>River North</td>\n",
              "      <td>9523.666667</td>\n",
              "    </tr>\n",
              "    <tr>\n",
              "      <th>2</th>\n",
              "      <td>Streeterville</td>\n",
              "      <td>6664.666667</td>\n",
              "    </tr>\n",
              "    <tr>\n",
              "      <th>3</th>\n",
              "      <td>West Loop</td>\n",
              "      <td>5163.666667</td>\n",
              "    </tr>\n",
              "    <tr>\n",
              "      <th>4</th>\n",
              "      <td>O'Hare</td>\n",
              "      <td>2546.900000</td>\n",
              "    </tr>\n",
              "    <tr>\n",
              "      <th>...</th>\n",
              "      <td>...</td>\n",
              "      <td>...</td>\n",
              "    </tr>\n",
              "    <tr>\n",
              "      <th>89</th>\n",
              "      <td>Mount Greenwood</td>\n",
              "      <td>3.137931</td>\n",
              "    </tr>\n",
              "    <tr>\n",
              "      <th>90</th>\n",
              "      <td>Hegewisch</td>\n",
              "      <td>3.117647</td>\n",
              "    </tr>\n",
              "    <tr>\n",
              "      <th>91</th>\n",
              "      <td>Burnside</td>\n",
              "      <td>2.333333</td>\n",
              "    </tr>\n",
              "    <tr>\n",
              "      <th>92</th>\n",
              "      <td>East Side</td>\n",
              "      <td>1.961538</td>\n",
              "    </tr>\n",
              "    <tr>\n",
              "      <th>93</th>\n",
              "      <td>Riverdale</td>\n",
              "      <td>1.800000</td>\n",
              "    </tr>\n",
              "  </tbody>\n",
              "</table>\n",
              "<p>94 rows × 2 columns</p>\n",
              "</div>"
            ],
            "text/plain": [
              "   dropoff_location_name  average_trips\n",
              "0                   Loop   10727.466667\n",
              "1            River North    9523.666667\n",
              "2          Streeterville    6664.666667\n",
              "3              West Loop    5163.666667\n",
              "4                 O'Hare    2546.900000\n",
              "..                   ...            ...\n",
              "89       Mount Greenwood       3.137931\n",
              "90             Hegewisch       3.117647\n",
              "91              Burnside       2.333333\n",
              "92             East Side       1.961538\n",
              "93             Riverdale       1.800000\n",
              "\n",
              "[94 rows x 2 columns]"
            ]
          },
          "metadata": {},
          "output_type": "display_data"
        }
      ],
      "source": [
        "#display new df_dropoff_location_name\n",
        "display(df_dropoff_location_name)"
      ]
    },
    {
      "cell_type": "code",
      "execution_count": null,
      "metadata": {
        "trusted": true,
        "id": "mm7ZQLcqSBOf"
      },
      "outputs": [],
      "source": [
        "# Get the top 10 neighborhoods based on average drop-offs\n",
        "top_10_dropoffs = df_dropoff_location_name.sort_values(by='average_trips', ascending=False).head(10)"
      ]
    },
    {
      "cell_type": "code",
      "execution_count": null,
      "metadata": {
        "trusted": true,
        "id": "sGKPWG5jSBOf",
        "outputId": "c59e9b97-aece-4b6d-9f58-f1113ee66c91"
      },
      "outputs": [
        {
          "data": {
            "text/html": [
              "<div>\n",
              "<style scoped>\n",
              "    .dataframe tbody tr th:only-of-type {\n",
              "        vertical-align: middle;\n",
              "    }\n",
              "\n",
              "    .dataframe tbody tr th {\n",
              "        vertical-align: top;\n",
              "    }\n",
              "\n",
              "    .dataframe thead th {\n",
              "        text-align: right;\n",
              "    }\n",
              "</style>\n",
              "<table border=\"1\" class=\"dataframe\">\n",
              "  <thead>\n",
              "    <tr style=\"text-align: right;\">\n",
              "      <th></th>\n",
              "      <th>dropoff_location_name</th>\n",
              "      <th>average_trips</th>\n",
              "    </tr>\n",
              "  </thead>\n",
              "  <tbody>\n",
              "    <tr>\n",
              "      <th>0</th>\n",
              "      <td>Loop</td>\n",
              "      <td>10727.466667</td>\n",
              "    </tr>\n",
              "    <tr>\n",
              "      <th>1</th>\n",
              "      <td>River North</td>\n",
              "      <td>9523.666667</td>\n",
              "    </tr>\n",
              "    <tr>\n",
              "      <th>2</th>\n",
              "      <td>Streeterville</td>\n",
              "      <td>6664.666667</td>\n",
              "    </tr>\n",
              "    <tr>\n",
              "      <th>3</th>\n",
              "      <td>West Loop</td>\n",
              "      <td>5163.666667</td>\n",
              "    </tr>\n",
              "    <tr>\n",
              "      <th>4</th>\n",
              "      <td>O'Hare</td>\n",
              "      <td>2546.900000</td>\n",
              "    </tr>\n",
              "    <tr>\n",
              "      <th>5</th>\n",
              "      <td>Lake View</td>\n",
              "      <td>2420.966667</td>\n",
              "    </tr>\n",
              "    <tr>\n",
              "      <th>6</th>\n",
              "      <td>Grant Park</td>\n",
              "      <td>2068.533333</td>\n",
              "    </tr>\n",
              "    <tr>\n",
              "      <th>7</th>\n",
              "      <td>Museum Campus</td>\n",
              "      <td>1510.000000</td>\n",
              "    </tr>\n",
              "    <tr>\n",
              "      <th>8</th>\n",
              "      <td>Gold Coast</td>\n",
              "      <td>1364.233333</td>\n",
              "    </tr>\n",
              "    <tr>\n",
              "      <th>9</th>\n",
              "      <td>Sheffield &amp; DePaul</td>\n",
              "      <td>1259.766667</td>\n",
              "    </tr>\n",
              "  </tbody>\n",
              "</table>\n",
              "</div>"
            ],
            "text/plain": [
              "  dropoff_location_name  average_trips\n",
              "0                  Loop   10727.466667\n",
              "1           River North    9523.666667\n",
              "2         Streeterville    6664.666667\n",
              "3             West Loop    5163.666667\n",
              "4                O'Hare    2546.900000\n",
              "5             Lake View    2420.966667\n",
              "6            Grant Park    2068.533333\n",
              "7         Museum Campus    1510.000000\n",
              "8            Gold Coast    1364.233333\n",
              "9    Sheffield & DePaul    1259.766667"
            ]
          },
          "metadata": {},
          "output_type": "display_data"
        }
      ],
      "source": [
        "# Display the top 10 neighborhoods by dropoff\n",
        "display(top_10_dropoffs)"
      ]
    },
    {
      "cell_type": "code",
      "execution_count": null,
      "metadata": {
        "trusted": true,
        "id": "KzhI1AmuSBOf",
        "outputId": "cea3b13b-a542-4af7-f0ff-0c5ea2f1b3a3"
      },
      "outputs": [
        {
          "data": {
            "image/png": "[encoded data removed]",
            "text/plain": [
              "<Figure size 1200x600 with 1 Axes>"
            ]
          },
          "metadata": {},
          "output_type": "display_data"
        }
      ],
      "source": [
        "# Create a bar graph for the top 10 drop-off neighborhoods\n",
        "plt.figure(figsize=(12, 6))\n",
        "plt.bar(top_10_dropoffs['dropoff_location_name'], top_10_dropoffs['average_trips'])\n",
        "plt.xlabel('Drop-off Location')\n",
        "plt.ylabel('Average Trips')\n",
        "plt.title('Top 10 Neighborhoods by Drop-offs')\n",
        "plt.xticks(rotation=45, ha='right')\n",
        "plt.tight_layout()\n",
        "\n",
        "# Show the plot\n",
        "plt.show()"
      ]
    },
    {
      "cell_type": "markdown",
      "metadata": {
        "id": "w1TSCj77SBOg"
      },
      "source": [
        "<div class=\"alert alert-success\"; style=\"border-left: 7px solid green\">\n",
        "<b>✅ Reviewer's comment, v. 1</b>\n",
        "    \n",
        "Yep, very nice!\n",
        "</div>"
      ]
    },
    {
      "cell_type": "markdown",
      "metadata": {
        "id": "aWU0mMEnSBOg"
      },
      "source": [
        "### Conclusion for Top 10 Neighborhoods by Drop-offs"
      ]
    },
    {
      "cell_type": "markdown",
      "metadata": {
        "id": "ESef5JcsSBOg"
      },
      "source": [
        " 1.High Drop-off Activity in Central Areas:\n",
        "\n",
        "The Loop and River North neighborhoods see the highest number of drop-offs, indicating that these areas are central hubs for business, tourism, and commuting.\n",
        "\n",
        "These locations likely attract a lot of traffic due to office buildings, shopping areas, restaurants, and other attractions.\n",
        "\n",
        "2.Streeterville and West Loop Also Popular:\n",
        "\n",
        "Streeterville and West Loop follow closely behind, suggesting that they are also key destinations for commuters and tourists.\n",
        "\n",
        "These areas may host a mix of residential and commercial establishments, contributing to high drop-off volumes.\n",
        "\n",
        "3.O’Hare as a Key Transportation Hub:\n",
        "\n",
        "O'Hare International Airport is ranked among the top 5, reflecting its status as a major transportation hub.\n",
        "\n",
        "Many trips likely originate from or terminate at the airport, contributing significantly to the drop-off volume.\n",
        "\n",
        "4.Decline in Drop-offs Beyond Central Areas:\n",
        "\n",
        "There is a noticeable drop in the average number of trips beyond the top 4-5 locations, suggesting that the outer neighborhoods and suburban areas see comparatively lower traffic.\n",
        "\n",
        "5.Potential Impact on Transportation Planning:\n",
        "\n",
        "These insights could be valuable for transportation authorities and taxi companies in allocating resources efficiently, with a focus on high-demand areas."
      ]
    },
    {
      "cell_type": "code",
      "execution_count": null,
      "metadata": {
        "trusted": true,
        "id": "KedHtYGXSBOg"
      },
      "outputs": [],
      "source": [
        "# Get the top 10 companies based on trips_amount\n",
        "top_10_companies = df_company_name.sort_values(by='trips_amount', ascending=False).head(10)"
      ]
    },
    {
      "cell_type": "code",
      "execution_count": null,
      "metadata": {
        "trusted": true,
        "id": "saDeW117SBOg",
        "outputId": "4e9ea06e-e8c6-4e14-c356-b1434740add2"
      },
      "outputs": [
        {
          "data": {
            "text/html": [
              "<div>\n",
              "<style scoped>\n",
              "    .dataframe tbody tr th:only-of-type {\n",
              "        vertical-align: middle;\n",
              "    }\n",
              "\n",
              "    .dataframe tbody tr th {\n",
              "        vertical-align: top;\n",
              "    }\n",
              "\n",
              "    .dataframe thead th {\n",
              "        text-align: right;\n",
              "    }\n",
              "</style>\n",
              "<table border=\"1\" class=\"dataframe\">\n",
              "  <thead>\n",
              "    <tr style=\"text-align: right;\">\n",
              "      <th></th>\n",
              "      <th>company_name</th>\n",
              "      <th>trips_amount</th>\n",
              "    </tr>\n",
              "  </thead>\n",
              "  <tbody>\n",
              "    <tr>\n",
              "      <th>0</th>\n",
              "      <td>Flash Cab</td>\n",
              "      <td>19558</td>\n",
              "    </tr>\n",
              "    <tr>\n",
              "      <th>1</th>\n",
              "      <td>Taxi Affiliation Services</td>\n",
              "      <td>11422</td>\n",
              "    </tr>\n",
              "    <tr>\n",
              "      <th>2</th>\n",
              "      <td>Medallion Leasing</td>\n",
              "      <td>10367</td>\n",
              "    </tr>\n",
              "    <tr>\n",
              "      <th>3</th>\n",
              "      <td>Yellow Cab</td>\n",
              "      <td>9888</td>\n",
              "    </tr>\n",
              "    <tr>\n",
              "      <th>4</th>\n",
              "      <td>Taxi Affiliation Service Yellow</td>\n",
              "      <td>9299</td>\n",
              "    </tr>\n",
              "    <tr>\n",
              "      <th>5</th>\n",
              "      <td>Chicago Carriage Cab Corp</td>\n",
              "      <td>9181</td>\n",
              "    </tr>\n",
              "    <tr>\n",
              "      <th>6</th>\n",
              "      <td>City Service</td>\n",
              "      <td>8448</td>\n",
              "    </tr>\n",
              "    <tr>\n",
              "      <th>7</th>\n",
              "      <td>Sun Taxi</td>\n",
              "      <td>7701</td>\n",
              "    </tr>\n",
              "    <tr>\n",
              "      <th>8</th>\n",
              "      <td>Star North Management LLC</td>\n",
              "      <td>7455</td>\n",
              "    </tr>\n",
              "    <tr>\n",
              "      <th>9</th>\n",
              "      <td>Blue Ribbon Taxi Association Inc.</td>\n",
              "      <td>5953</td>\n",
              "    </tr>\n",
              "  </tbody>\n",
              "</table>\n",
              "</div>"
            ],
            "text/plain": [
              "                        company_name  trips_amount\n",
              "0                          Flash Cab         19558\n",
              "1          Taxi Affiliation Services         11422\n",
              "2                  Medallion Leasing         10367\n",
              "3                         Yellow Cab          9888\n",
              "4    Taxi Affiliation Service Yellow          9299\n",
              "5          Chicago Carriage Cab Corp          9181\n",
              "6                       City Service          8448\n",
              "7                           Sun Taxi          7701\n",
              "8          Star North Management LLC          7455\n",
              "9  Blue Ribbon Taxi Association Inc.          5953"
            ]
          },
          "metadata": {},
          "output_type": "display_data"
        }
      ],
      "source": [
        "#Display the top 10 companies based on trips\n",
        "display(top_10_companies)"
      ]
    },
    {
      "cell_type": "code",
      "execution_count": null,
      "metadata": {
        "trusted": true,
        "id": "s57NVjKoSBOg",
        "outputId": "613e3d8c-3d98-4732-f67b-7edc16e17777"
      },
      "outputs": [
        {
          "data": {
            "image/png": "[encoded data removed]",
            "text/plain": [
              "<Figure size 1200x600 with 1 Axes>"
            ]
          },
          "metadata": {},
          "output_type": "display_data"
        }
      ],
      "source": [
        "# Create a bar graph for the top 10 companies based on trips\n",
        "plt.figure(figsize=(12, 6))\n",
        "plt.bar(top_10_companies['company_name'], top_10_companies['trips_amount'])\n",
        "plt.xlabel('Company Name')\n",
        "plt.ylabel('Number of Trips')\n",
        "plt.title('Top 10 Companies by Number of Trips')\n",
        "plt.xticks(rotation=45, ha='right')\n",
        "plt.tight_layout()\n",
        "\n",
        "# Show the plot\n",
        "plt.show()"
      ]
    },
    {
      "cell_type": "markdown",
      "metadata": {
        "id": "_7T6vmb_SBOg"
      },
      "source": [
        "<div class=\"alert alert-warning\"; style=\"border-left: 7px solid gold\">\n",
        "<b>⚠️ Reviewer's comment, v. 1</b>\n",
        "    \n",
        "Also here you can swap the x and y axes in places so that the names are more readable"
      ]
    },
    {
      "cell_type": "markdown",
      "metadata": {
        "id": "wRqbfZskSBOg"
      },
      "source": [
        "### Conclusion for Top 10 Company based of trips"
      ]
    },
    {
      "cell_type": "markdown",
      "metadata": {
        "id": "39fAcDIFSBOg"
      },
      "source": [
        "1.Flash Cab Dominates the Market:\n",
        "\n",
        "Flash Cab is the clear leader in terms of the number of trips, significantly outperforming other companies.\n",
        "\n",
        "This suggests that Flash Cab has a strong market presence, possibly due to its reliability, customer loyalty, or widespread availability.\n",
        "\n",
        "2.Strong Performance by Taxi Affiliation Services:\n",
        "\n",
        "Taxi Affiliation Services and Medallion Leasing also handle a large volume of trips, securing the second and third positions respectively.\n",
        "\n",
        "These companies likely have well-established networks and a consistent customer base.\n",
        "\n",
        "3.Yellow Cab Remains Competitive:\n",
        "\n",
        "Yellow Cab and Taxi Affiliation Service Yellow follow closely, indicating that they are still relevant and trusted service providers despite competition.\n",
        "\n",
        "4.Market Concentration in Top Companies:\n",
        "\n",
        "The graph shows a steep decline in the number of trips after the top 3-4 companies, suggesting that a small number of companies dominate the market.\n",
        "\n",
        "Smaller or less-known companies may struggle to compete with these top players.\n",
        "\n",
        "5.Potential for Targeted Partnerships or Service Improvements:\n",
        "\n",
        "The insights could help taxi services and ride-hailing platforms explore partnerships with these high-performing companies or identify areas where smaller companies can improve to gain more market share."
      ]
    },
    {
      "cell_type": "markdown",
      "metadata": {
        "id": "22WWqDcDSBOh"
      },
      "source": [
        "<div class=\"alert alert-success\"; style=\"border-left: 7px solid green\">\n",
        "<b>✅ Reviewer's comment, v. 1</b>\n",
        "    \n",
        "Great! We counted the data from files by dropoff_location_name and company_name, sorted the graphs, applied a single color and indicated small conclusions</div>"
      ]
    },
    {
      "cell_type": "markdown",
      "metadata": {
        "id": "qpiILV-JSBOh"
      },
      "source": [
        "<div class=\"alert alert-success\"; style=\"border-left: 7px solid green\">\n",
        "<b>✅ Reviewer's comment, v. 1</b>\n",
        "    \n",
        "Also I could recommend you this site, may be you could find smth interesting for visualization skills:\n",
        "\n",
        "https://www.python-graph-gallery.com/"
      ]
    },
    {
      "cell_type": "markdown",
      "metadata": {
        "id": "z09Gb_bPSBOh"
      },
      "source": [
        "### TESTING Hypothesis"
      ]
    },
    {
      "cell_type": "markdown",
      "metadata": {
        "id": "mshcABY3SBOh"
      },
      "source": [
        " Step 1: Define Hypotheses\n",
        "Null Hypothesis (H₀): There is no significant change in the average duration of rides from the Loop to O'Hare on rainy Saturdays.\n",
        "\n",
        "Alternative Hypothesis (H₁): The average duration of rides from the Loop to O'Hare on rainy Saturdays is significantly different.\n",
        "\n",
        " Step 2: Significance Level (Alpha)\n",
        "I will set the significance level (α) to 0.05 (5%), which is a common threshold in hypothesis testing. This means there is a 5% probability of rejecting the null hypothesis if it is true.\n",
        "\n",
        " Step 3: Prepare and Filter Data\n",
        "Filter data to include only trips from the Loop to O'Hare.\n",
        "\n",
        "Separate trips into two groups:\n",
        "\n",
        "Trips on rainy Saturdays.\n",
        "\n",
        "Trips on non-rainy Saturdays or other days.\n",
        "\n",
        " Step 4: Perform a t-test\n",
        "Conduct an independent t-test to compare the average trip durations between the two groups.\n",
        "\n",
        "Determine if the difference is statistically significant."
      ]
    },
    {
      "cell_type": "markdown",
      "metadata": {
        "id": "XJQoH0Y3SBO0"
      },
      "source": [
        "<div class=\"alert alert-success\"; style=\"border-left: 7px solid green\">\n",
        "<b>✅ Reviewer's comment, v. 1</b>\n",
        "    \n",
        "Hypotheses were formulated</div>"
      ]
    },
    {
      "cell_type": "code",
      "execution_count": null,
      "metadata": {
        "trusted": true,
        "id": "FV1tlvt5SBO1",
        "outputId": "6c06bebf-c1c5-419e-fcad-056265bb274f"
      },
      "outputs": [
        {
          "data": {
            "text/plain": [
              "(180, 1068, 6.056477994870787, 5.013652852599471e-09)"
            ]
          },
          "execution_count": 19,
          "metadata": {},
          "output_type": "execute_result"
        }
      ],
      "source": [
        "alpha=0.05\n",
        "\n",
        "# Treat 'Bad' weather conditions as rainy Saturdays\n",
        "rainy_saturdays = df_Hare[df_Hare['weather_conditions'].str.contains('Bad', case=False, na=False)]\n",
        "\n",
        "# Get trip durations for both groups\n",
        "rainy_durations = rainy_saturdays['duration_seconds'].dropna()\n",
        "non_rainy_durations = df_Hare['duration_seconds'].dropna()\n",
        "\n",
        "# Perform an independent t-test\n",
        "t_stat, p_value = ttest_ind(rainy_durations, non_rainy_durations, equal_var=False)\n",
        "\n",
        "# Check the number of trips in both groups after the update\n",
        "rainy_saturdays_size = len(rainy_durations)\n",
        "non_rainy_saturdays_size = len(non_rainy_durations)\n",
        "\n",
        "rainy_saturdays_size, non_rainy_saturdays_size, t_stat, p_value\n",
        "\n"
      ]
    },
    {
      "cell_type": "markdown",
      "metadata": {
        "id": "MC4oKJXoSBO2"
      },
      "source": [
        "### Hypothesis Conclusion"
      ]
    },
    {
      "cell_type": "markdown",
      "metadata": {
        "id": "qpipKypOSBO2"
      },
      "source": [
        "Since the p-value is extremely small (5.01e-9), it is much smaller than the commonly used significance level of 0.05.\n",
        "\n",
        "This means we reject the null hypothesis and conclude that there is a significant difference in the average duration of rides from the Loop to O'Hare International Airport on rainy Saturdays compared to non-rainy Saturdays."
      ]
    },
    {
      "cell_type": "markdown",
      "metadata": {
        "id": "-PLzCDL3SBO2"
      },
      "source": [
        "### GENERAL Conclusion"
      ]
    },
    {
      "cell_type": "markdown",
      "metadata": {
        "id": "21j2FlBjSBO3"
      },
      "source": [
        "1. Company Performance Analysis:\n",
        "Top Companies by Trip Volume:\n",
        "\n",
        "Flash Cab is the dominant player, completing the highest number of trips, followed by Taxi Affiliation Services and Medallion Leasing.\n",
        "\n",
        "A small number of companies account for the majority of trips, indicating that the market is highly concentrated among a few key players.\n",
        "\n",
        "Implication:\n",
        "\n",
        "Smaller companies may need to focus on improving service quality or introducing innovative pricing models to compete effectively.\n",
        "\n",
        "Taxi services and transportation planners could target high-volume companies for potential partnerships or regulatory changes.\n",
        "\n",
        " 2. Drop-off Location Trends:\n",
        "High Demand for Central Locations:\n",
        "\n",
        "The Loop and River North witness the highest drop-off volumes, making them central hubs for transportation.\n",
        "\n",
        "Locations such as Streeterville and West Loop also experience heavy traffic, with O'Hare International Airport emerging as a major transportation hub.\n",
        "\n",
        "Implication:\n",
        "\n",
        "Transportation authorities may need to prioritize improving traffic management and optimizing routes in these high-demand areas.\n",
        "\n",
        "Taxi companies can explore dynamic pricing models during peak hours or events in these neighborhoods.\n",
        "\n",
        " 3. Impact of Weather on Ride Duration:\n",
        "Significant Delay on Rainy Saturdays:\n",
        "\n",
        "An independent t-test comparing trip durations on rainy Saturdays (bad weather) vs. non-rainy Saturdays (good weather) showed a statistically significant difference in average ride durations.\n",
        "\n",
        "P-value:\n",
        "5.01\n",
        "×\n",
        "10\n",
        "−\n",
        "9\n",
        "5.01×10\n",
        "−9\n",
        "  (far below 0.05), indicating a strong rejection of the null hypothesis.\n",
        "\n",
        "Trips during bad weather conditions take significantly longer, likely due to slower traffic and unfavorable driving conditions.\n",
        "\n",
        "Implication:\n",
        "\n",
        "Transportation services can inform customers about expected delays and adjust estimated arrival times dynamically.\n",
        "\n",
        "Authorities could consider improving infrastructure or offering alternative routes to mitigate weather-related delays.\n",
        "\n",
        " 4. Data Cleaning and Preprocessing:\n",
        "Thorough Data Cleaning Applied:\n",
        "\n",
        "Duplicate rows and missing values were handled carefully.\n",
        "\n",
        "Data types were validated, and necessary transformations (e.g., numeric conversions) were performed.\n",
        "\n",
        "Consistency in Data Treatment:\n",
        "\n",
        "Both company and drop-off datasets underwent rigorous data cleansing, ensuring consistency and accuracy in analysis.\n",
        "\n",
        " 5. Key Insights for Business Strategy:\n",
        "Optimize Resource Allocation:\n",
        "\n",
        "Allocate more taxis or ride-share drivers to high-demand areas such as the Loop and River North.\n",
        "\n",
        "Enhance Customer Experience:\n",
        "\n",
        "Anticipate delays on rainy days and adjust pricing or route recommendations to improve service efficiency.\n",
        "\n",
        "Competitive Differentiation:\n",
        "\n",
        "Smaller companies could introduce loyalty programs or targeted promotions to capture market share from dominant companies.\n",
        "\n",
        " Final Thoughts:\n",
        "Today’s analysis provided deep insights into the behavior of taxi rides, company performance, drop-off trends, and the impact of weather on trip durations. These findings can be leveraged by transportation companies, urban planners, and policymakers to optimize services, reduce delays, and improve customer satisfaction."
      ]
    },
    {
      "cell_type": "markdown",
      "metadata": {
        "id": "qmd3896ySBO3"
      },
      "source": [
        "<div class=\"alert alert-success\"; style=\"border-left: 7px solid green\">\n",
        "<b>✅ Reviewer's comment, v. 1</b>\n",
        "\n",
        "The entire conclusion is formed brilliantly"
      ]
    },
    {
      "cell_type": "markdown",
      "metadata": {
        "id": "iMIxF9TNSBO4"
      },
      "source": [
        "<div class=\"alert alert-danger\"; style=\"border-left: 7px solid red\">\n",
        "<b>⛔️ Reviewer's comment, v. 1</b>\n",
        "\n",
        "But also, please note that in each research, in addition to intermediate conclusions, there should be a general conclusion on all the work carried out. It is not necessary to reflect all the stages in this conclusion in great detail, it is enough to add the main points."
      ]
    },
    {
      "cell_type": "markdown",
      "metadata": {
        "id": "XmRugUymSBO4"
      },
      "source": [
        "<div class=\"alert alert-success\"; style=\"border-left: 7px solid green\">\n",
        "<b>✅ Reviewer's comment, v. 2</b>\n",
        "    \n",
        "General conclusion looks awesome!"
      ]
    },
    {
      "cell_type": "markdown",
      "metadata": {
        "id": "dGW4I1QgSBO4"
      },
      "source": [
        "<div class=\"alert alert-success\"; style=\"border-left: 7px solid green\">\n",
        "<b>Review summary</b>\n",
        "    \n",
        "Joshua, the project is great! You have very strong analytical skills, knowledge of research tools and understanding of statistical methods. But still there are a few comments in the project and I will ask you to correct them so that your project becomes even better!\n",
        "    "
      ]
    }
  ],
  "metadata": {
    "ExecuteTimeLog": [
      {
        "duration": 159,
        "start_time": "2025-03-27T15:24:02.231Z"
      },
      {
        "duration": 2537,
        "start_time": "2025-03-27T15:24:09.401Z"
      },
      {
        "duration": 11,
        "start_time": "2025-03-27T15:24:11.941Z"
      },
      {
        "duration": 846,
        "start_time": "2025-03-27T15:25:33.244Z"
      },
      {
        "duration": 6,
        "start_time": "2025-03-27T15:25:34.092Z"
      },
      {
        "duration": 798,
        "start_time": "2025-03-27T15:28:44.795Z"
      },
      {
        "duration": 6,
        "start_time": "2025-03-27T15:28:45.595Z"
      },
      {
        "duration": 13,
        "start_time": "2025-03-27T15:28:45.603Z"
      },
      {
        "duration": 863,
        "start_time": "2025-03-27T15:29:09.334Z"
      },
      {
        "duration": 10,
        "start_time": "2025-03-27T15:29:10.199Z"
      },
      {
        "duration": 9,
        "start_time": "2025-03-27T15:29:10.210Z"
      },
      {
        "duration": 5,
        "start_time": "2025-03-27T15:29:10.221Z"
      },
      {
        "duration": 6,
        "start_time": "2025-03-27T15:29:41.764Z"
      },
      {
        "duration": 18,
        "start_time": "2025-03-27T15:43:00.711Z"
      },
      {
        "duration": 7,
        "start_time": "2025-03-27T15:43:21.940Z"
      },
      {
        "duration": 869,
        "start_time": "2025-03-27T15:50:32.523Z"
      },
      {
        "duration": 7,
        "start_time": "2025-03-27T15:50:33.395Z"
      },
      {
        "duration": 9,
        "start_time": "2025-03-27T15:50:33.404Z"
      },
      {
        "duration": 6,
        "start_time": "2025-03-27T15:50:33.414Z"
      },
      {
        "duration": 5,
        "start_time": "2025-03-27T15:50:33.423Z"
      },
      {
        "duration": 8,
        "start_time": "2025-03-27T15:50:33.430Z"
      },
      {
        "duration": 7,
        "start_time": "2025-03-27T15:50:33.440Z"
      },
      {
        "duration": 8,
        "start_time": "2025-03-27T15:50:33.449Z"
      },
      {
        "duration": 7,
        "start_time": "2025-03-27T15:51:32.052Z"
      },
      {
        "duration": 845,
        "start_time": "2025-03-27T15:56:17.158Z"
      },
      {
        "duration": 8,
        "start_time": "2025-03-27T15:56:18.005Z"
      },
      {
        "duration": 8,
        "start_time": "2025-03-27T15:56:18.014Z"
      },
      {
        "duration": 5,
        "start_time": "2025-03-27T15:56:18.024Z"
      },
      {
        "duration": 6,
        "start_time": "2025-03-27T15:56:18.031Z"
      },
      {
        "duration": 8,
        "start_time": "2025-03-27T15:56:18.039Z"
      },
      {
        "duration": 8,
        "start_time": "2025-03-27T15:56:18.048Z"
      },
      {
        "duration": 9,
        "start_time": "2025-03-27T15:56:18.058Z"
      },
      {
        "duration": 45,
        "start_time": "2025-03-27T15:56:18.069Z"
      },
      {
        "duration": 10,
        "start_time": "2025-03-27T15:56:18.116Z"
      },
      {
        "duration": 8,
        "start_time": "2025-03-27T16:19:31.236Z"
      },
      {
        "duration": 3,
        "start_time": "2025-03-27T16:21:34.135Z"
      },
      {
        "duration": 8,
        "start_time": "2025-03-27T16:22:26.341Z"
      },
      {
        "duration": 841,
        "start_time": "2025-03-27T16:23:31.613Z"
      },
      {
        "duration": 10,
        "start_time": "2025-03-27T16:23:32.457Z"
      },
      {
        "duration": 9,
        "start_time": "2025-03-27T16:23:32.469Z"
      },
      {
        "duration": 6,
        "start_time": "2025-03-27T16:23:32.480Z"
      },
      {
        "duration": 6,
        "start_time": "2025-03-27T16:23:32.488Z"
      },
      {
        "duration": 21,
        "start_time": "2025-03-27T16:23:32.496Z"
      },
      {
        "duration": 8,
        "start_time": "2025-03-27T16:23:32.519Z"
      },
      {
        "duration": 8,
        "start_time": "2025-03-27T16:23:32.529Z"
      },
      {
        "duration": 8,
        "start_time": "2025-03-27T16:23:32.539Z"
      },
      {
        "duration": 7,
        "start_time": "2025-03-27T16:23:32.549Z"
      },
      {
        "duration": 7,
        "start_time": "2025-03-27T16:23:32.558Z"
      },
      {
        "duration": 42,
        "start_time": "2025-03-27T16:23:32.567Z"
      },
      {
        "duration": 7,
        "start_time": "2025-03-27T16:23:32.611Z"
      },
      {
        "duration": 269,
        "start_time": "2025-03-27T16:23:32.621Z"
      },
      {
        "duration": 839,
        "start_time": "2025-03-27T16:45:17.659Z"
      },
      {
        "duration": 8,
        "start_time": "2025-03-27T16:45:18.501Z"
      },
      {
        "duration": 8,
        "start_time": "2025-03-27T16:45:18.511Z"
      },
      {
        "duration": 7,
        "start_time": "2025-03-27T16:45:18.520Z"
      },
      {
        "duration": 7,
        "start_time": "2025-03-27T16:45:18.529Z"
      },
      {
        "duration": 8,
        "start_time": "2025-03-27T16:45:18.537Z"
      },
      {
        "duration": 7,
        "start_time": "2025-03-27T16:45:18.547Z"
      },
      {
        "duration": 8,
        "start_time": "2025-03-27T16:45:18.556Z"
      },
      {
        "duration": 8,
        "start_time": "2025-03-27T16:45:18.566Z"
      },
      {
        "duration": 7,
        "start_time": "2025-03-27T16:45:18.609Z"
      },
      {
        "duration": 7,
        "start_time": "2025-03-27T16:45:18.618Z"
      },
      {
        "duration": 3,
        "start_time": "2025-03-27T16:45:18.627Z"
      },
      {
        "duration": 8,
        "start_time": "2025-03-27T16:45:18.631Z"
      },
      {
        "duration": 297,
        "start_time": "2025-03-27T16:45:18.641Z"
      },
      {
        "duration": 872,
        "start_time": "2025-03-27T16:48:57.324Z"
      },
      {
        "duration": 11,
        "start_time": "2025-03-27T16:48:58.198Z"
      },
      {
        "duration": 8,
        "start_time": "2025-03-27T16:48:58.210Z"
      },
      {
        "duration": 5,
        "start_time": "2025-03-27T16:48:58.220Z"
      },
      {
        "duration": 6,
        "start_time": "2025-03-27T16:48:58.227Z"
      },
      {
        "duration": 9,
        "start_time": "2025-03-27T16:48:58.234Z"
      },
      {
        "duration": 8,
        "start_time": "2025-03-27T16:48:58.244Z"
      },
      {
        "duration": 8,
        "start_time": "2025-03-27T16:48:58.254Z"
      },
      {
        "duration": 7,
        "start_time": "2025-03-27T16:48:58.264Z"
      },
      {
        "duration": 8,
        "start_time": "2025-03-27T16:48:58.309Z"
      },
      {
        "duration": 8,
        "start_time": "2025-03-27T16:48:58.318Z"
      },
      {
        "duration": 3,
        "start_time": "2025-03-27T16:48:58.327Z"
      },
      {
        "duration": 6,
        "start_time": "2025-03-27T16:48:58.332Z"
      },
      {
        "duration": 305,
        "start_time": "2025-03-27T16:48:58.341Z"
      },
      {
        "duration": 3,
        "start_time": "2025-03-27T16:48:58.648Z"
      },
      {
        "duration": 8,
        "start_time": "2025-03-27T16:48:58.653Z"
      },
      {
        "duration": 876,
        "start_time": "2025-03-27T16:49:22.217Z"
      },
      {
        "duration": 6,
        "start_time": "2025-03-27T16:49:23.095Z"
      },
      {
        "duration": 7,
        "start_time": "2025-03-27T16:49:23.110Z"
      },
      {
        "duration": 5,
        "start_time": "2025-03-27T16:49:23.119Z"
      },
      {
        "duration": 6,
        "start_time": "2025-03-27T16:49:23.126Z"
      },
      {
        "duration": 8,
        "start_time": "2025-03-27T16:49:23.134Z"
      },
      {
        "duration": 7,
        "start_time": "2025-03-27T16:49:23.144Z"
      },
      {
        "duration": 8,
        "start_time": "2025-03-27T16:49:23.153Z"
      },
      {
        "duration": 7,
        "start_time": "2025-03-27T16:49:23.163Z"
      },
      {
        "duration": 44,
        "start_time": "2025-03-27T16:49:23.172Z"
      },
      {
        "duration": 8,
        "start_time": "2025-03-27T16:49:23.218Z"
      },
      {
        "duration": 3,
        "start_time": "2025-03-27T16:49:23.228Z"
      },
      {
        "duration": 6,
        "start_time": "2025-03-27T16:49:23.233Z"
      },
      {
        "duration": 309,
        "start_time": "2025-03-27T16:49:23.242Z"
      },
      {
        "duration": 7,
        "start_time": "2025-03-27T16:49:23.553Z"
      },
      {
        "duration": 7,
        "start_time": "2025-03-27T16:49:23.564Z"
      },
      {
        "duration": 803,
        "start_time": "2025-03-27T16:54:36.086Z"
      },
      {
        "duration": 7,
        "start_time": "2025-03-27T16:54:36.892Z"
      },
      {
        "duration": 13,
        "start_time": "2025-03-27T16:54:36.900Z"
      },
      {
        "duration": 4,
        "start_time": "2025-03-27T16:54:36.915Z"
      },
      {
        "duration": 6,
        "start_time": "2025-03-27T16:54:36.921Z"
      },
      {
        "duration": 8,
        "start_time": "2025-03-27T16:54:36.929Z"
      },
      {
        "duration": 7,
        "start_time": "2025-03-27T16:54:36.939Z"
      },
      {
        "duration": 9,
        "start_time": "2025-03-27T16:54:36.947Z"
      },
      {
        "duration": 7,
        "start_time": "2025-03-27T16:54:36.958Z"
      },
      {
        "duration": 45,
        "start_time": "2025-03-27T16:54:36.966Z"
      },
      {
        "duration": 8,
        "start_time": "2025-03-27T16:54:37.012Z"
      },
      {
        "duration": 3,
        "start_time": "2025-03-27T16:54:37.021Z"
      },
      {
        "duration": 7,
        "start_time": "2025-03-27T16:54:37.026Z"
      },
      {
        "duration": 307,
        "start_time": "2025-03-27T16:54:37.036Z"
      },
      {
        "duration": 6,
        "start_time": "2025-03-27T16:54:37.345Z"
      },
      {
        "duration": 8,
        "start_time": "2025-03-27T16:54:37.354Z"
      },
      {
        "duration": 342,
        "start_time": "2025-03-27T16:54:37.364Z"
      },
      {
        "duration": 865,
        "start_time": "2025-03-27T17:14:54.035Z"
      },
      {
        "duration": 18,
        "start_time": "2025-03-27T17:14:54.903Z"
      },
      {
        "duration": 7,
        "start_time": "2025-03-27T17:14:54.923Z"
      },
      {
        "duration": 8,
        "start_time": "2025-03-27T17:14:54.932Z"
      },
      {
        "duration": 7,
        "start_time": "2025-03-27T17:14:54.943Z"
      },
      {
        "duration": 7,
        "start_time": "2025-03-27T17:14:54.952Z"
      },
      {
        "duration": 8,
        "start_time": "2025-03-27T17:14:54.961Z"
      },
      {
        "duration": 7,
        "start_time": "2025-03-27T17:14:54.971Z"
      },
      {
        "duration": 32,
        "start_time": "2025-03-27T17:14:54.980Z"
      },
      {
        "duration": 7,
        "start_time": "2025-03-27T17:14:55.015Z"
      },
      {
        "duration": 7,
        "start_time": "2025-03-27T17:14:55.024Z"
      },
      {
        "duration": 8,
        "start_time": "2025-03-27T17:14:55.033Z"
      },
      {
        "duration": 3,
        "start_time": "2025-03-27T17:14:55.042Z"
      },
      {
        "duration": 6,
        "start_time": "2025-03-27T17:14:55.047Z"
      },
      {
        "duration": 323,
        "start_time": "2025-03-27T17:14:55.054Z"
      },
      {
        "duration": 4,
        "start_time": "2025-03-27T17:14:55.378Z"
      },
      {
        "duration": 24,
        "start_time": "2025-03-27T17:14:55.384Z"
      },
      {
        "duration": 295,
        "start_time": "2025-03-27T17:14:55.410Z"
      },
      {
        "duration": 838,
        "start_time": "2025-03-27T17:50:19.256Z"
      },
      {
        "duration": 8,
        "start_time": "2025-03-27T17:50:20.096Z"
      },
      {
        "duration": 6,
        "start_time": "2025-03-27T17:50:20.108Z"
      },
      {
        "duration": 8,
        "start_time": "2025-03-27T17:50:20.117Z"
      },
      {
        "duration": 6,
        "start_time": "2025-03-27T17:50:20.127Z"
      },
      {
        "duration": 6,
        "start_time": "2025-03-27T17:50:20.134Z"
      },
      {
        "duration": 8,
        "start_time": "2025-03-27T17:50:20.142Z"
      },
      {
        "duration": 7,
        "start_time": "2025-03-27T17:50:20.151Z"
      },
      {
        "duration": 9,
        "start_time": "2025-03-27T17:50:20.160Z"
      },
      {
        "duration": 41,
        "start_time": "2025-03-27T17:50:20.171Z"
      },
      {
        "duration": 7,
        "start_time": "2025-03-27T17:50:20.214Z"
      },
      {
        "duration": 7,
        "start_time": "2025-03-27T17:50:20.223Z"
      },
      {
        "duration": 3,
        "start_time": "2025-03-27T17:50:20.231Z"
      },
      {
        "duration": 6,
        "start_time": "2025-03-27T17:50:20.236Z"
      },
      {
        "duration": 310,
        "start_time": "2025-03-27T17:50:20.244Z"
      },
      {
        "duration": 3,
        "start_time": "2025-03-27T17:50:20.556Z"
      },
      {
        "duration": 6,
        "start_time": "2025-03-27T17:50:20.561Z"
      },
      {
        "duration": 328,
        "start_time": "2025-03-27T17:50:20.569Z"
      },
      {
        "duration": 267,
        "start_time": "2025-03-27T17:50:20.899Z"
      },
      {
        "duration": 798,
        "start_time": "2025-03-27T17:51:12.397Z"
      },
      {
        "duration": 6,
        "start_time": "2025-03-27T17:51:13.197Z"
      },
      {
        "duration": 4,
        "start_time": "2025-03-27T17:51:13.209Z"
      },
      {
        "duration": 7,
        "start_time": "2025-03-27T17:51:13.215Z"
      },
      {
        "duration": 4,
        "start_time": "2025-03-27T17:51:13.225Z"
      },
      {
        "duration": 5,
        "start_time": "2025-03-27T17:51:13.231Z"
      },
      {
        "duration": 9,
        "start_time": "2025-03-27T17:51:13.237Z"
      },
      {
        "duration": 7,
        "start_time": "2025-03-27T17:51:13.248Z"
      },
      {
        "duration": 9,
        "start_time": "2025-03-27T17:51:13.256Z"
      },
      {
        "duration": 47,
        "start_time": "2025-03-27T17:51:13.267Z"
      },
      {
        "duration": 8,
        "start_time": "2025-03-27T17:51:13.315Z"
      },
      {
        "duration": 7,
        "start_time": "2025-03-27T17:51:13.325Z"
      },
      {
        "duration": 3,
        "start_time": "2025-03-27T17:51:13.334Z"
      },
      {
        "duration": 6,
        "start_time": "2025-03-27T17:51:13.340Z"
      },
      {
        "duration": 319,
        "start_time": "2025-03-27T17:51:13.348Z"
      },
      {
        "duration": 4,
        "start_time": "2025-03-27T17:51:13.668Z"
      },
      {
        "duration": 8,
        "start_time": "2025-03-27T17:51:13.673Z"
      },
      {
        "duration": 335,
        "start_time": "2025-03-27T17:51:13.682Z"
      },
      {
        "duration": 275,
        "start_time": "2025-03-27T17:51:14.019Z"
      },
      {
        "duration": 829,
        "start_time": "2025-03-27T17:52:05.169Z"
      },
      {
        "duration": 8,
        "start_time": "2025-03-27T17:52:06.001Z"
      },
      {
        "duration": 4,
        "start_time": "2025-03-27T17:52:06.011Z"
      },
      {
        "duration": 7,
        "start_time": "2025-03-27T17:52:06.017Z"
      },
      {
        "duration": 4,
        "start_time": "2025-03-27T17:52:06.027Z"
      },
      {
        "duration": 5,
        "start_time": "2025-03-27T17:52:06.033Z"
      },
      {
        "duration": 8,
        "start_time": "2025-03-27T17:52:06.040Z"
      },
      {
        "duration": 8,
        "start_time": "2025-03-27T17:52:06.050Z"
      },
      {
        "duration": 9,
        "start_time": "2025-03-27T17:52:06.059Z"
      },
      {
        "duration": 45,
        "start_time": "2025-03-27T17:52:06.069Z"
      },
      {
        "duration": 7,
        "start_time": "2025-03-27T17:52:06.116Z"
      },
      {
        "duration": 8,
        "start_time": "2025-03-27T17:52:06.125Z"
      },
      {
        "duration": 4,
        "start_time": "2025-03-27T17:52:06.134Z"
      },
      {
        "duration": 5,
        "start_time": "2025-03-27T17:52:06.141Z"
      },
      {
        "duration": 331,
        "start_time": "2025-03-27T17:52:06.148Z"
      },
      {
        "duration": 4,
        "start_time": "2025-03-27T17:52:06.481Z"
      },
      {
        "duration": 22,
        "start_time": "2025-03-27T17:52:06.487Z"
      },
      {
        "duration": 310,
        "start_time": "2025-03-27T17:52:06.511Z"
      },
      {
        "duration": 272,
        "start_time": "2025-03-27T17:52:06.823Z"
      },
      {
        "duration": 846,
        "start_time": "2025-03-27T17:54:17.057Z"
      },
      {
        "duration": 8,
        "start_time": "2025-03-27T17:54:17.906Z"
      },
      {
        "duration": 4,
        "start_time": "2025-03-27T17:54:17.916Z"
      },
      {
        "duration": 7,
        "start_time": "2025-03-27T17:54:17.922Z"
      },
      {
        "duration": 6,
        "start_time": "2025-03-27T17:54:17.931Z"
      },
      {
        "duration": 6,
        "start_time": "2025-03-27T17:54:17.938Z"
      },
      {
        "duration": 9,
        "start_time": "2025-03-27T17:54:17.945Z"
      },
      {
        "duration": 8,
        "start_time": "2025-03-27T17:54:17.955Z"
      },
      {
        "duration": 48,
        "start_time": "2025-03-27T17:54:17.965Z"
      },
      {
        "duration": 7,
        "start_time": "2025-03-27T17:54:18.015Z"
      },
      {
        "duration": 8,
        "start_time": "2025-03-27T17:54:18.024Z"
      },
      {
        "duration": 8,
        "start_time": "2025-03-27T17:54:18.034Z"
      },
      {
        "duration": 5,
        "start_time": "2025-03-27T17:54:18.043Z"
      },
      {
        "duration": 6,
        "start_time": "2025-03-27T17:54:18.052Z"
      },
      {
        "duration": 321,
        "start_time": "2025-03-27T17:54:18.060Z"
      },
      {
        "duration": 3,
        "start_time": "2025-03-27T17:54:18.383Z"
      },
      {
        "duration": 21,
        "start_time": "2025-03-27T17:54:18.388Z"
      },
      {
        "duration": 310,
        "start_time": "2025-03-27T17:54:18.412Z"
      },
      {
        "duration": 8,
        "start_time": "2025-03-27T17:54:18.723Z"
      },
      {
        "duration": 882,
        "start_time": "2025-03-27T17:57:29.027Z"
      },
      {
        "duration": 7,
        "start_time": "2025-03-27T17:57:29.912Z"
      },
      {
        "duration": 5,
        "start_time": "2025-03-27T17:57:29.921Z"
      },
      {
        "duration": 9,
        "start_time": "2025-03-27T17:57:29.927Z"
      },
      {
        "duration": 4,
        "start_time": "2025-03-27T17:57:29.938Z"
      },
      {
        "duration": 7,
        "start_time": "2025-03-27T17:57:29.944Z"
      },
      {
        "duration": 8,
        "start_time": "2025-03-27T17:57:29.952Z"
      },
      {
        "duration": 7,
        "start_time": "2025-03-27T17:57:29.962Z"
      },
      {
        "duration": 44,
        "start_time": "2025-03-27T17:57:29.971Z"
      },
      {
        "duration": 7,
        "start_time": "2025-03-27T17:57:30.017Z"
      },
      {
        "duration": 7,
        "start_time": "2025-03-27T17:57:30.026Z"
      },
      {
        "duration": 7,
        "start_time": "2025-03-27T17:57:30.034Z"
      },
      {
        "duration": 3,
        "start_time": "2025-03-27T17:57:30.042Z"
      },
      {
        "duration": 6,
        "start_time": "2025-03-27T17:57:30.048Z"
      },
      {
        "duration": 337,
        "start_time": "2025-03-27T17:57:30.056Z"
      },
      {
        "duration": 16,
        "start_time": "2025-03-27T17:57:30.395Z"
      },
      {
        "duration": 6,
        "start_time": "2025-03-27T17:57:30.413Z"
      },
      {
        "duration": 292,
        "start_time": "2025-03-27T17:57:30.421Z"
      },
      {
        "duration": 8,
        "start_time": "2025-03-27T17:57:30.715Z"
      },
      {
        "duration": 2845,
        "start_time": "2025-03-28T01:07:31.193Z"
      },
      {
        "duration": 9,
        "start_time": "2025-03-28T01:07:34.041Z"
      },
      {
        "duration": 10,
        "start_time": "2025-03-28T01:07:34.051Z"
      },
      {
        "duration": 8,
        "start_time": "2025-03-28T01:07:34.062Z"
      },
      {
        "duration": 19,
        "start_time": "2025-03-28T01:07:34.073Z"
      },
      {
        "duration": 7,
        "start_time": "2025-03-28T01:07:34.095Z"
      },
      {
        "duration": 10,
        "start_time": "2025-03-28T01:07:34.104Z"
      },
      {
        "duration": 8,
        "start_time": "2025-03-28T01:07:34.116Z"
      },
      {
        "duration": 9,
        "start_time": "2025-03-28T01:07:34.126Z"
      },
      {
        "duration": 9,
        "start_time": "2025-03-28T01:07:34.137Z"
      },
      {
        "duration": 10,
        "start_time": "2025-03-28T01:07:34.148Z"
      },
      {
        "duration": 9,
        "start_time": "2025-03-28T01:07:34.187Z"
      },
      {
        "duration": 3,
        "start_time": "2025-03-28T01:07:34.198Z"
      },
      {
        "duration": 7,
        "start_time": "2025-03-28T01:07:34.204Z"
      },
      {
        "duration": 291,
        "start_time": "2025-03-28T01:07:34.213Z"
      },
      {
        "duration": 4,
        "start_time": "2025-03-28T01:07:34.506Z"
      },
      {
        "duration": 7,
        "start_time": "2025-03-28T01:07:34.511Z"
      },
      {
        "duration": 312,
        "start_time": "2025-03-28T01:07:34.520Z"
      },
      {
        "duration": 10,
        "start_time": "2025-03-28T01:07:34.834Z"
      },
      {
        "duration": 829,
        "start_time": "2025-03-28T01:11:09.686Z"
      },
      {
        "duration": 7,
        "start_time": "2025-03-28T01:11:10.518Z"
      },
      {
        "duration": 5,
        "start_time": "2025-03-28T01:11:10.528Z"
      },
      {
        "duration": 8,
        "start_time": "2025-03-28T01:11:10.535Z"
      },
      {
        "duration": 5,
        "start_time": "2025-03-28T01:11:10.547Z"
      },
      {
        "duration": 7,
        "start_time": "2025-03-28T01:11:10.554Z"
      },
      {
        "duration": 10,
        "start_time": "2025-03-28T01:11:10.587Z"
      },
      {
        "duration": 8,
        "start_time": "2025-03-28T01:11:10.599Z"
      },
      {
        "duration": 9,
        "start_time": "2025-03-28T01:11:10.609Z"
      },
      {
        "duration": 7,
        "start_time": "2025-03-28T01:11:10.620Z"
      },
      {
        "duration": 8,
        "start_time": "2025-03-28T01:11:10.629Z"
      },
      {
        "duration": 8,
        "start_time": "2025-03-28T01:11:10.638Z"
      },
      {
        "duration": 4,
        "start_time": "2025-03-28T01:11:10.686Z"
      },
      {
        "duration": 6,
        "start_time": "2025-03-28T01:11:10.694Z"
      },
      {
        "duration": 272,
        "start_time": "2025-03-28T01:11:10.702Z"
      },
      {
        "duration": 3,
        "start_time": "2025-03-28T01:11:10.987Z"
      },
      {
        "duration": 7,
        "start_time": "2025-03-28T01:11:10.992Z"
      },
      {
        "duration": 302,
        "start_time": "2025-03-28T01:11:11.001Z"
      },
      {
        "duration": 8,
        "start_time": "2025-03-28T01:11:11.305Z"
      },
      {
        "duration": 896,
        "start_time": "2025-03-28T01:13:41.595Z"
      },
      {
        "duration": 7,
        "start_time": "2025-03-28T01:13:42.493Z"
      },
      {
        "duration": 6,
        "start_time": "2025-03-28T01:13:42.501Z"
      },
      {
        "duration": 7,
        "start_time": "2025-03-28T01:13:42.510Z"
      },
      {
        "duration": 5,
        "start_time": "2025-03-28T01:13:42.519Z"
      },
      {
        "duration": 7,
        "start_time": "2025-03-28T01:13:42.526Z"
      },
      {
        "duration": 9,
        "start_time": "2025-03-28T01:13:42.535Z"
      },
      {
        "duration": 41,
        "start_time": "2025-03-28T01:13:42.546Z"
      },
      {
        "duration": 11,
        "start_time": "2025-03-28T01:13:42.590Z"
      },
      {
        "duration": 8,
        "start_time": "2025-03-28T01:13:42.605Z"
      },
      {
        "duration": 9,
        "start_time": "2025-03-28T01:13:42.615Z"
      },
      {
        "duration": 8,
        "start_time": "2025-03-28T01:13:42.626Z"
      },
      {
        "duration": 3,
        "start_time": "2025-03-28T01:13:42.636Z"
      },
      {
        "duration": 7,
        "start_time": "2025-03-28T01:13:42.641Z"
      },
      {
        "duration": 320,
        "start_time": "2025-03-28T01:13:42.649Z"
      },
      {
        "duration": 3,
        "start_time": "2025-03-28T01:13:42.971Z"
      },
      {
        "duration": 15,
        "start_time": "2025-03-28T01:13:42.976Z"
      },
      {
        "duration": 350,
        "start_time": "2025-03-28T01:13:42.993Z"
      },
      {
        "duration": 7,
        "start_time": "2025-03-28T01:13:43.346Z"
      }
    ],
    "kernelspec": {
      "display_name": "base",
      "language": "python",
      "name": "python3"
    },
    "language_info": {
      "codemirror_mode": {
        "name": "ipython",
        "version": 3
      },
      "file_extension": ".py",
      "mimetype": "text/x-python",
      "name": "python",
      "nbconvert_exporter": "python",
      "pygments_lexer": "ipython3",
      "version": "3.12.7"
    },
    "toc": {
      "base_numbering": 1,
      "nav_menu": {},
      "number_sections": true,
      "sideBar": true,
      "skip_h1_title": true,
      "title_cell": "Table of Contents",
      "title_sidebar": "Contents",
      "toc_cell": false,
      "toc_position": {},
      "toc_section_display": true,
      "toc_window_display": false
    },
    "colab": {
      "provenance": []
    }
  },
  "nbformat": 4,
  "nbformat_minor": 0
}